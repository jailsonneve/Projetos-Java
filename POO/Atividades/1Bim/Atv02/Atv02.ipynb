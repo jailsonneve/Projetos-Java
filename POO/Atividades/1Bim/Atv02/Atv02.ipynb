{
 "cells": [
  {
   "cell_type": "markdown",
   "id": "04689213-3104-4518-b399-8c1c86e4eace",
   "metadata": {},
   "source": [
    "# Você é desafiado a criar uma classe em Java chamada ExercicioVariaveis que declare e inicialize variáveis de todos os tipos primitivos disponíveis na linguagem Java. Além disso, a classe deve utilizar caracteres especiais em algumas strings para demonstrar o uso adequado desses caracteres.\n",
    "\n",
    "Siga as instruções abaixo:\n",
    "\n",
    "Declare e inicialize variáveis dos seguintes tipos primitivos:\n",
    "\n",
    "int\n",
    "long\n",
    "float\n",
    "double\n",
    "char\n",
    "boolean\n",
    "byte\n",
    "short\n",
    "Exiba os valores das variáveis utilizando System.out.println.\n",
    "\n",
    "Utilize caracteres especiais em algumas strings para representar:\n",
    "\n",
    "Caractere de nova linha (\\n)\n",
    "Caractere de tabulação (\\t)\n",
    "Caractere de aspas duplas (\")\n",
    "Caractere de barra invertida (\\\\)\n",
    "Certifique-se de que o código compila e execute corretamente.\n",
    "\n"
   ]
  },
  {
   "cell_type": "code",
   "execution_count": null,
   "id": "0eae7131-b08b-4ec8-b99f-cbc29ad0708d",
   "metadata": {},
   "outputs": [],
   "source": [
    "//public class Atv02 {\n",
    "//    public static void main(String[] args) {\n",
    "        int numInt = 42;\n",
    "        long numLong = 123_456_789L;\n",
    "        float numF = 3.14f;\n",
    "        byte numByte = 127;\n",
    "        short numShort = 32_767;\n",
    "        double numDouble = 2.71828;\n",
    "        char letra = 'A';\n",
    "        boolean nBooleano = true;\n",
    "        System.out.println(\"Número inteiro:\\t\" + numInt);\n",
    "        System.out.println(\"Número longo:\\t\" + numLong);\n",
    "        System.out.println(\"Número float:\\t\" + numF);\n",
    "        System.out.println(\"Número double:\\t\" + numDouble);\n",
    "        System.out.println(\"letra:\\t\\t\" + letra);\n",
    "        System.out.println(\"Valor booleano:\\t\" + nBooleano);\n",
    "        System.out.println(\"Número byte:\\t\" + numByte);\n",
    "        System.out.println(\"Número short:\\t\" + numShort);\n",
    "        System.out.println(\"\\nString com nova linha:\\nSegunda linha\");\n",
    "        System.out.println(\"String com tabulação:\\t\\tTexto após a tabulação\");\n",
    "        System.out.println(\"String com aspas duplas: \\\"Texto entre aspas\\\"\");\n",
    "        System.out.println(\"String com barra invertida: C:\\\\\\\\diretorio\\\\\\\\arquivo.txt\");\n",
    "  //  }\n",
    "//}"
   ]
  }
 ],
 "metadata": {
  "kernelspec": {
   "display_name": "Java",
   "language": "java",
   "name": "java"
  },
  "language_info": {
   "codemirror_mode": "java",
   "file_extension": ".jshell",
   "mimetype": "text/x-java-source",
   "name": "Java",
   "pygments_lexer": "java",
   "version": "21.0.1+12-LTS-29"
  }
 },
 "nbformat": 4,
 "nbformat_minor": 5
}

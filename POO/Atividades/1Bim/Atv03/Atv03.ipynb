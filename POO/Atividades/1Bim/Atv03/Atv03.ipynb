{
 "cells": [
  {
   "cell_type": "markdown",
   "id": "d5ae4ccf-c5aa-4a87-b9c6-cae887fe206d",
   "metadata": {},
   "source": [
    "# Atividade 03"
   ]
  },
  {
   "cell_type": "markdown",
   "id": "93916147-f75c-4ced-8daf-5174556b6447",
   "metadata": {},
   "source": [
    "## Crie uma classe em java capaz de imprimir o seu nome no console."
   ]
  },
  {
   "cell_type": "code",
   "execution_count": 1,
   "id": "69171a82-6529-4e07-b42c-92e1f7f50b34",
   "metadata": {
    "tags": [],
    "vscode": {
     "languageId": "java"
    }
   },
   "outputs": [
    {
     "name": "stdout",
     "output_type": "stream",
     "text": [
      "Arthur\n"
     ]
    },
    {
     "data": {
      "text/plain": [
       "null"
      ]
     },
     "execution_count": 1,
     "metadata": {},
     "output_type": "execute_result"
    }
   ],
   "source": [
    "//public class Atv03 {\n",
    "    //public static void main(String[] args) {\n",
    "        System.out.println(\"Arthur\");\n",
    "  //  }\n",
    "//}"
   ]
  },
  {
   "cell_type": "markdown",
   "id": "730f1428-4dd4-4379-8534-5ea4326f0e65",
   "metadata": {},
   "source": [
    "## Crie uma classe que efetue a leitura de um valor qualquer e exiba o seu respectivo valor na tabela ASCII."
   ]
  },
  {
   "cell_type": "code",
   "execution_count": null,
   "id": "bd58f79e-17d2-497e-828f-37c7497fb8df",
   "metadata": {
    "tags": [],
    "vscode": {
     "languageId": "java"
    }
   },
   "outputs": [
    {
     "name": "stdout",
     "output_type": "stream",
     "text": [
      "Digite um valor: "
     ]
    },
    {
     "name": "stdout",
     "output_type": "stream",
     "text": [
      " a\n"
     ]
    },
    {
     "name": "stdout",
     "output_type": "stream",
     "text": [
      "O valor ASCII de 'a' é: 97\n"
     ]
    },
    {
     "data": {
      "text/plain": [
       "null"
      ]
     },
     "execution_count": 2,
     "metadata": {},
     "output_type": "execute_result"
    }
   ],
   "source": [
    "import java.util.Scanner;\n",
    "//public class Atv03B {\n",
    "    //public static void main(String[] args) {\n",
    "        Scanner scanner = new Scanner(System.in);\n",
    "        System.out.print(\"Digite um valor: \");\n",
    "        char valor = scanner.next().charAt(0);\n",
    "        int asciiValor = (int) valor;\n",
    "        System.out.println(\"O valor ASCII de '\" + valor + \"' é: \" + asciiValor);\n",
    "  //  }\n",
    "//}"
   ]
  },
  {
   "cell_type": "code",
   "execution_count": null,
   "id": "b14fa438-d758-40ac-87da-07dc7d4fa669",
   "metadata": {
    "vscode": {
     "languageId": "java"
    }
   },
   "outputs": [],
   "source": []
  }
 ],
 "metadata": {
  "kernelspec": {
   "display_name": "Java",
   "language": "java",
   "name": "java"
  },
  "language_info": {
   "codemirror_mode": "text/x-java",
   "file_extension": ".java",
   "mimetype": "",
   "name": "Java",
   "nbconverter_exporter": "",
   "version": "1.8.0_121"
  }
 },
 "nbformat": 4,
 "nbformat_minor": 5
}
